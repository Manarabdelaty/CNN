{
 "cells": [
  {
   "cell_type": "code",
   "execution_count": 1,
   "metadata": {},
   "outputs": [
    {
     "name": "stderr",
     "output_type": "stream",
     "text": [
      "C:\\Users\\Dell\\Anaconda3\\lib\\site-packages\\h5py\\__init__.py:36: FutureWarning: Conversion of the second argument of issubdtype from `float` to `np.floating` is deprecated. In future, it will be treated as `np.float64 == np.dtype(float).type`.\n",
      "  from ._conv import register_converters as _register_converters\n",
      "Using TensorFlow backend.\n"
     ]
    }
   ],
   "source": [
    "from keras.preprocessing.image import ImageDataGenerator\n",
    "import os\n",
    "os.environ[\"TF_CPP_MIN_LOG_LEVEL\"]=\"3\"\n",
    "import numpy as np\n",
    "from keras.datasets import cifar100\n",
    "from keras.models import Sequential\n",
    "from keras.layers import Conv2D, MaxPooling2D\n",
    "from keras.layers import Activation, Dropout, Flatten, Dense, BatchNormalization\n",
    "\n",
    "from keras.utils import np_utils\n",
    "np.random.seed(1337)  "
   ]
  },
  {
   "cell_type": "code",
   "execution_count": 3,
   "metadata": {},
   "outputs": [
    {
     "name": "stdout",
     "output_type": "stream",
     "text": [
      "X_train shape: (50000, 32, 32, 3)\n",
      "y_train shape: (50000, 1)\n",
      "X_test shape: (10000, 32, 32, 3)\n",
      "y_test shape: (10000, 1)\n"
     ]
    }
   ],
   "source": [
    "(X_train, y_train), (X_test, y_test) = cifar100.load_data(label_mode='coarse')\n",
    "print('X_train shape:', X_train.shape)\n",
    "print('y_train shape:', y_train.shape)\n",
    "print('X_test shape:', X_test.shape)\n",
    "print('y_test shape:', y_test.shape)"
   ]
  },
  {
   "cell_type": "code",
   "execution_count": 4,
   "metadata": {},
   "outputs": [],
   "source": [
    "Xtr = X_train[0:45000]\n",
    "Ytr = y_train[0:45000]\n",
    "Xvalid = X_train[45000:]\n",
    "Yvalid = y_train[45000:]\n",
    "\n",
    "Xvalid = Xvalid.astype('float32')\n",
    "X_test = X_test.astype('float32')\n",
    "Xtr = Xtr.astype('float32')\n",
    "\n",
    "X_test /= 255.0\n",
    "Xvalid /= 255.0\n",
    "Xtr /= 255.0"
   ]
  },
  {
   "cell_type": "code",
   "execution_count": 5,
   "metadata": {},
   "outputs": [],
   "source": [
    "nb_classes = 20\n",
    "# Convert class vectors to binary class matrices.\n",
    "Ytr = np_utils.to_categorical(Ytr, nb_classes)\n",
    "Yvalid = np_utils.to_categorical(Yvalid, nb_classes)\n",
    "Y_test = np_utils.to_categorical(y_test, nb_classes)"
   ]
  },
  {
   "cell_type": "code",
   "execution_count": 6,
   "metadata": {},
   "outputs": [],
   "source": [
    "model = Sequential()\n",
    "\n",
    "model.add(Conv2D(64, (3, 3), padding='same',\n",
    "input_shape=X_train.shape[1:]))\n",
    "model.add(BatchNormalization())\n",
    "model.add(Activation('elu'))\n",
    "\n",
    "model.add(Conv2D(64, (3, 3)))\n",
    "model.add(BatchNormalization())\n",
    "model.add(Activation('elu'))\n",
    "model.add(MaxPooling2D(pool_size=(2, 2)))\n",
    "\n",
    "model.add(Conv2D(128, (3, 3), padding='same'))\n",
    "model.add(BatchNormalization())\n",
    "model.add(Activation('elu'))\n",
    "\n",
    "model.add(Conv2D(128, (3, 3), padding='same'))\n",
    "model.add(BatchNormalization())\n",
    "model.add(Activation('elu'))\n",
    "model.add(MaxPooling2D(pool_size=(2, 2)))\n",
    "\n",
    "model.add(Conv2D(256, (3, 3)))\n",
    "model.add(BatchNormalization())\n",
    "model.add(Activation('elu'))\n",
    "\n",
    "\n",
    "model.add(Conv2D(256, (3, 3), padding='same'))\n",
    "model.add(BatchNormalization())\n",
    "model.add(Activation('elu'))\n",
    "model.add(MaxPooling2D(pool_size=(2, 2)))"
   ]
  },
  {
   "cell_type": "code",
   "execution_count": 7,
   "metadata": {},
   "outputs": [],
   "source": [
    "model.add(Flatten())\n",
    "model.add(Dense(256))\n",
    "model.add(BatchNormalization())\n",
    "model.add(Activation('elu'))\n",
    "model.add(Dense(nb_classes))\n",
    "model.add(Activation('softmax'))"
   ]
  },
  {
   "cell_type": "code",
   "execution_count": 8,
   "metadata": {},
   "outputs": [
    {
     "name": "stdout",
     "output_type": "stream",
     "text": [
      "_________________________________________________________________\n",
      "Layer (type)                 Output Shape              Param #   \n",
      "=================================================================\n",
      "conv2d_1 (Conv2D)            (None, 32, 32, 64)        1792      \n",
      "_________________________________________________________________\n",
      "batch_normalization_1 (Batch (None, 32, 32, 64)        256       \n",
      "_________________________________________________________________\n",
      "activation_1 (Activation)    (None, 32, 32, 64)        0         \n",
      "_________________________________________________________________\n",
      "conv2d_2 (Conv2D)            (None, 30, 30, 64)        36928     \n",
      "_________________________________________________________________\n",
      "batch_normalization_2 (Batch (None, 30, 30, 64)        256       \n",
      "_________________________________________________________________\n",
      "activation_2 (Activation)    (None, 30, 30, 64)        0         \n",
      "_________________________________________________________________\n",
      "max_pooling2d_1 (MaxPooling2 (None, 15, 15, 64)        0         \n",
      "_________________________________________________________________\n",
      "conv2d_3 (Conv2D)            (None, 15, 15, 128)       73856     \n",
      "_________________________________________________________________\n",
      "batch_normalization_3 (Batch (None, 15, 15, 128)       512       \n",
      "_________________________________________________________________\n",
      "activation_3 (Activation)    (None, 15, 15, 128)       0         \n",
      "_________________________________________________________________\n",
      "conv2d_4 (Conv2D)            (None, 15, 15, 128)       147584    \n",
      "_________________________________________________________________\n",
      "batch_normalization_4 (Batch (None, 15, 15, 128)       512       \n",
      "_________________________________________________________________\n",
      "activation_4 (Activation)    (None, 15, 15, 128)       0         \n",
      "_________________________________________________________________\n",
      "max_pooling2d_2 (MaxPooling2 (None, 7, 7, 128)         0         \n",
      "_________________________________________________________________\n",
      "conv2d_5 (Conv2D)            (None, 5, 5, 256)         295168    \n",
      "_________________________________________________________________\n",
      "batch_normalization_5 (Batch (None, 5, 5, 256)         1024      \n",
      "_________________________________________________________________\n",
      "activation_5 (Activation)    (None, 5, 5, 256)         0         \n",
      "_________________________________________________________________\n",
      "conv2d_6 (Conv2D)            (None, 5, 5, 256)         590080    \n",
      "_________________________________________________________________\n",
      "batch_normalization_6 (Batch (None, 5, 5, 256)         1024      \n",
      "_________________________________________________________________\n",
      "activation_6 (Activation)    (None, 5, 5, 256)         0         \n",
      "_________________________________________________________________\n",
      "max_pooling2d_3 (MaxPooling2 (None, 2, 2, 256)         0         \n",
      "_________________________________________________________________\n",
      "flatten_1 (Flatten)          (None, 1024)              0         \n",
      "_________________________________________________________________\n",
      "dense_1 (Dense)              (None, 256)               262400    \n",
      "_________________________________________________________________\n",
      "batch_normalization_7 (Batch (None, 256)               1024      \n",
      "_________________________________________________________________\n",
      "activation_7 (Activation)    (None, 256)               0         \n",
      "_________________________________________________________________\n",
      "dense_2 (Dense)              (None, 20)                5140      \n",
      "_________________________________________________________________\n",
      "activation_8 (Activation)    (None, 20)                0         \n",
      "=================================================================\n",
      "Total params: 1,417,556\n",
      "Trainable params: 1,415,252\n",
      "Non-trainable params: 2,304\n",
      "_________________________________________________________________\n",
      "Train on 45000 samples, validate on 5000 samples\n",
      "Epoch 1/15\n",
      "45000/45000 [==============================] - 320s 7ms/step - loss: 2.1585 - acc: 0.3339 - val_loss: 2.0829 - val_acc: 0.3862\n",
      "Epoch 2/15\n",
      "45000/45000 [==============================] - 306s 7ms/step - loss: 1.6667 - acc: 0.4742 - val_loss: 1.6453 - val_acc: 0.4816\n",
      "Epoch 3/15\n",
      "45000/45000 [==============================] - 299s 7ms/step - loss: 1.4350 - acc: 0.5430 - val_loss: 1.5287 - val_acc: 0.5316\n",
      "Epoch 4/15\n",
      "45000/45000 [==============================] - 301s 7ms/step - loss: 1.2618 - acc: 0.5957 - val_loss: 1.4173 - val_acc: 0.5606\n",
      "Epoch 5/15\n",
      "45000/45000 [==============================] - 300s 7ms/step - loss: 1.1092 - acc: 0.6436 - val_loss: 1.2958 - val_acc: 0.5982\n",
      "Epoch 6/15\n",
      "45000/45000 [==============================] - 300s 7ms/step - loss: 0.9616 - acc: 0.6898 - val_loss: 1.3708 - val_acc: 0.5906\n",
      "Epoch 7/15\n",
      "45000/45000 [==============================] - 300s 7ms/step - loss: 0.8173 - acc: 0.7340 - val_loss: 1.3067 - val_acc: 0.6038\n",
      "Epoch 8/15\n",
      "45000/45000 [==============================] - 300s 7ms/step - loss: 0.6689 - acc: 0.7794 - val_loss: 1.3532 - val_acc: 0.6100\n",
      "Epoch 9/15\n",
      "45000/45000 [==============================] - 304s 7ms/step - loss: 0.5306 - acc: 0.8226 - val_loss: 1.4730 - val_acc: 0.6056\n",
      "Epoch 10/15\n",
      "45000/45000 [==============================] - 304s 7ms/step - loss: 0.4138 - acc: 0.8603 - val_loss: 1.5025 - val_acc: 0.6104\n",
      "Epoch 11/15\n",
      "45000/45000 [==============================] - 301s 7ms/step - loss: 0.3214 - acc: 0.8908 - val_loss: 1.6656 - val_acc: 0.6100\n",
      "Epoch 12/15\n",
      "45000/45000 [==============================] - 302s 7ms/step - loss: 0.2601 - acc: 0.9113 - val_loss: 1.8612 - val_acc: 0.6046\n",
      "Epoch 13/15\n",
      "45000/45000 [==============================] - 303s 7ms/step - loss: 0.2225 - acc: 0.9239 - val_loss: 1.9424 - val_acc: 0.5996\n",
      "Epoch 14/15\n",
      "45000/45000 [==============================] - 311s 7ms/step - loss: 0.1927 - acc: 0.9343 - val_loss: 1.9893 - val_acc: 0.6036\n",
      "Epoch 15/15\n",
      "45000/45000 [==============================] - 303s 7ms/step - loss: 0.1698 - acc: 0.9415 - val_loss: 1.9701 - val_acc: 0.6110\n"
     ]
    }
   ],
   "source": [
    "model.summary()\n",
    "\n",
    "model.compile(loss='categorical_crossentropy',\n",
    "              optimizer='Adam',\n",
    "              metrics=['accuracy'])\n",
    "\n",
    "history = model.fit(Xtr, Ytr,\n",
    "                    batch_size=32, epochs=15,\n",
    "                    verbose=1, validation_data=(Xvalid, Yvalid))"
   ]
  },
  {
   "cell_type": "code",
   "execution_count": 9,
   "metadata": {},
   "outputs": [
    {
     "name": "stdout",
     "output_type": "stream",
     "text": [
      "Test score: 1.9332347814559936\n",
      "Test accuracy: 0.6086\n"
     ]
    }
   ],
   "source": [
    "score = model.evaluate(X_test, Y_test, verbose=0)\n",
    "print('Test score:', score[0])\n",
    "print('Test accuracy:', score[1])"
   ]
  },
  {
   "cell_type": "code",
   "execution_count": null,
   "metadata": {},
   "outputs": [],
   "source": []
  }
 ],
 "metadata": {
  "kernelspec": {
   "display_name": "Python 3",
   "language": "python",
   "name": "python3"
  },
  "language_info": {
   "codemirror_mode": {
    "name": "ipython",
    "version": 3
   },
   "file_extension": ".py",
   "mimetype": "text/x-python",
   "name": "python",
   "nbconvert_exporter": "python",
   "pygments_lexer": "ipython3",
   "version": "3.6.4"
  }
 },
 "nbformat": 4,
 "nbformat_minor": 2
}
